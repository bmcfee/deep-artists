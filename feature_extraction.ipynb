{
 "metadata": {
  "name": "feature_extraction"
 },
 "nbformat": 3,
 "nbformat_minor": 0,
 "worksheets": [
  {
   "cells": [
    {
     "cell_type": "code",
     "collapsed": false,
     "input": [
      "import librosa\n",
      "import numpy as np\n",
      "import scipy\n",
      "import os\n",
      "\n",
      "PATCH_SIZE = 40\n",
      "\n",
      "for f in os.listdir('data'):\n",
      "    if f.endswith('.mp3'):\n",
      "\ty, sr = librosa.load('data/%s' % f)\n",
      "\ty = y[-22050*30:]\n",
      "\tD = np.abs(librosa.stft(y, n_fft=512))[:256, :]\n",
      "\tD = D[:,:(D.shape[1]/PATCH_SIZE) * PATCH_SIZE]\n",
      "\t# print D.shape\n",
      "\tD = D.reshape((D.shape[0], 40, -1), order='F')\n",
      "\t# print D.shape\n",
      "\tD = D.swapaxes(2,1).swapaxes(1,0)\n",
      "\tprint D.shape\n",
      "\t\n",
      "\tbreak\n"
     ],
     "language": "python",
     "outputs": [
      {
       "output_type": "stream",
       "stream": "stdout",
       "text": [
        "(64, 256, 40)\n"
       ]
      }
     ],
     "prompt_number": 42
    },
    {
     "cell_type": "code",
     "collapsed": false,
     "input": [
      "imshow(D[30], aspect=40./256, interpolation='nearest')"
     ],
     "language": "python",
     "outputs": [
      {
       "output_type": "pyout",
       "prompt_number": 43,
       "text": [
        "<matplotlib.image.AxesImage at 0x10e5fe610>"
       ]
      }
     ],
     "prompt_number": 43
    },
    {
     "cell_type": "code",
     "collapsed": false,
     "input": [],
     "language": "python",
     "outputs": [
      {
       "output_type": "pyout",
       "prompt_number": 25,
       "text": [
        "<matplotlib.image.AxesImage at 0x11c082c10>"
       ]
      }
     ],
     "prompt_number": 25
    },
    {
     "cell_type": "code",
     "collapsed": false,
     "input": [],
     "language": "python",
     "outputs": []
    },
    {
     "cell_type": "code",
     "collapsed": false,
     "input": [],
     "language": "python",
     "outputs": []
    },
    {
     "cell_type": "code",
     "collapsed": false,
     "input": [],
     "language": "python",
     "outputs": []
    }
   ]
  }
 ]
}