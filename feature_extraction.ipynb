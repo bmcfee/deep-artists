{
 "metadata": {
  "name": "feature_extraction"
 },
 "nbformat": 3,
 "nbformat_minor": 0,
 "worksheets": [
  {
   "cells": [
    {
     "cell_type": "code",
     "collapsed": false,
     "input": [
      "import librosa\n",
      "import numpy as np\n",
      "import scipy\n",
      "import os\n",
      "\n",
      "PATCH_SIZE = 40\n",
      "\n",
      "for f in os.listdir('data'):\n",
      "    if f.endswith('.mp3'):\n",
      "\ty, sr = librosa.load('data/%s' % f)\n",
      "\ty = y[-22050*30:]\n",
      "\tD = np.abs(librosa.stft(y, n_fft=512))[:256, :]\n",
      "\tD = D[:,:(D.shape[1]/PATCH_SIZE) * PATCH_SIZE]\n",
      "\tprint D.shape\n",
      "\t\n",
      "\tbreak\n"
     ],
     "language": "python",
     "outputs": [
      {
       "output_type": "stream",
       "stream": "stdout",
       "text": [
        "(256, 2560)\n"
       ]
      }
     ],
     "prompt_number": 9
    },
    {
     "cell_type": "code",
     "collapsed": false,
     "input": [
      "imshow(np.abs(D[:,:200]))"
     ],
     "language": "python",
     "outputs": [
      {
       "output_type": "pyout",
       "prompt_number": 5,
       "text": [
        "<matplotlib.image.AxesImage at 0x11c0575d0>"
       ]
      }
     ],
     "prompt_number": 5
    },
    {
     "cell_type": "code",
     "collapsed": false,
     "input": [],
     "language": "python",
     "outputs": []
    },
    {
     "cell_type": "code",
     "collapsed": false,
     "input": [],
     "language": "python",
     "outputs": []
    },
    {
     "cell_type": "code",
     "collapsed": false,
     "input": [],
     "language": "python",
     "outputs": []
    },
    {
     "cell_type": "code",
     "collapsed": false,
     "input": [],
     "language": "python",
     "outputs": []
    }
   ]
  }
 ]
}